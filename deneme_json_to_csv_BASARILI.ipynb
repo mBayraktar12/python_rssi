{
 "cells": [
  {
   "cell_type": "code",
   "execution_count": 101,
   "id": "bce1b710",
   "metadata": {},
   "outputs": [],
   "source": [
    "import csv\n",
    "import json"
   ]
  },
  {
   "cell_type": "code",
   "execution_count": 102,
   "id": "6110cf0a",
   "metadata": {
    "scrolled": true
   },
   "outputs": [],
   "source": [
    "with open('df2_indent.json') as data_file:\n",
    "    data = json.load(data_file)"
   ]
  },
  {
   "cell_type": "code",
   "execution_count": 103,
   "id": "3eb078fd",
   "metadata": {},
   "outputs": [
    {
     "name": "stdout",
     "output_type": "stream",
     "text": [
      "<class 'list'>\n"
     ]
    }
   ],
   "source": [
    "print(type(data))"
   ]
  },
  {
   "cell_type": "code",
   "execution_count": 104,
   "id": "33d932c1",
   "metadata": {},
   "outputs": [
    {
     "name": "stdout",
     "output_type": "stream",
     "text": [
      "A0:E6:F8:40:28:E8\n",
      "A0:E6:F8:2C:1C:D6\n",
      "A0:E6:F8:40:3B:86\n",
      "A0:E6:F8:3F:D9:29\n",
      "A0:E6:F8:3F:D8:68\n"
     ]
    }
   ],
   "source": [
    "for i in range(len(data)):\n",
    "    print(data[0][\"beaconDataList\"][i][\"macAddress\"])"
   ]
  },
  {
   "cell_type": "code",
   "execution_count": 117,
   "id": "df8c22d1",
   "metadata": {
    "scrolled": true
   },
   "outputs": [],
   "source": [
    "with open(\"test.csv\", \"w\",newline='') as csvfile:\n",
    "    fieldnames =[\"macAddress\",\"rssi\"]\n",
    "    writer = csv.DictWriter(csvfile,fieldnames=fieldnames)\n",
    "    writer.writeheader()\n",
    "    for i in range(542):\n",
    "        writer.writerow({\"macAddress\":data[0][\"beaconDataList\"][i][\"macAddress\"],\"rssi\":data[0][\"beaconDataList\"][i][\"rssi\"]})"
   ]
  }
 ],
 "metadata": {
  "kernelspec": {
   "display_name": "Python 3 (ipykernel)",
   "language": "python",
   "name": "python3"
  },
  "language_info": {
   "codemirror_mode": {
    "name": "ipython",
    "version": 3
   },
   "file_extension": ".py",
   "mimetype": "text/x-python",
   "name": "python",
   "nbconvert_exporter": "python",
   "pygments_lexer": "ipython3",
   "version": "3.10.2"
  }
 },
 "nbformat": 4,
 "nbformat_minor": 5
}
